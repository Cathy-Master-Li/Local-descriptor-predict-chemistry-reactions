{
 "cells": [
  {
   "cell_type": "markdown",
   "metadata": {},
   "source": [
    "This notebook is a tutorial to generate local steric and electronic information in data1."
   ]
  },
  {
   "cell_type": "markdown",
   "metadata": {},
   "source": [
    "# Load Dependencies"
   ]
  },
  {
   "cell_type": "code",
   "execution_count": 1,
   "metadata": {
    "ExecuteTime": {
     "end_time": "2022-09-13T01:52:42.015357Z",
     "start_time": "2022-09-13T01:52:39.554368Z"
    }
   },
   "outputs": [
    {
     "name": "stderr",
     "output_type": "stream",
     "text": [
      "Using backend: pytorch\n",
      "[09:52:40] /opt/dgl/src/runtime/tensordispatch.cc:43: TensorDispatcher: dlopen failed: /root/anaconda3/lib/python3.8/site-packages/dgl/tensoradapter/pytorch/libtensoradapter_pytorch_1.11.0.so: cannot open shared object file: No such file or directory\n"
     ]
    }
   ],
   "source": [
    "import numpy as np\n",
    "import pandas as pd\n",
    "import glob\n",
    "from rdkit import Chem\n",
    "from rdkit.Chem import AllChem\n",
    "from script.SEMG import Calc_SPMS_Elec,Scaler \n",
    "import warnings\n",
    "warnings.filterwarnings(\"ignore\")"
   ]
  },
  {
   "cell_type": "markdown",
   "metadata": {},
   "source": [
    "# Load Data"
   ]
  },
  {
   "cell_type": "code",
   "execution_count": 2,
   "metadata": {
    "ExecuteTime": {
     "end_time": "2022-09-13T01:52:42.040448Z",
     "start_time": "2022-09-13T01:52:42.022835Z"
    },
    "hide_input": false,
    "scrolled": true
   },
   "outputs": [],
   "source": [
    "data_file = './data1/data1.csv'\n",
    "mol_dir = './data1/data1_sdf_files/'\n",
    "\n",
    "tmp_df = pd.read_csv(data_file)\n",
    "lig_smiles = np.array(tmp_df['Ligand'].to_list())\n",
    "add_smiles = np.array(tmp_df['Additive'].to_list())\n",
    "base_smiles = np.array(tmp_df['Base'].to_list())\n",
    "ar_ha_smiles = np.array(tmp_df['Aryl halide'].to_list())\n",
    "labels = np.array(tmp_df['Output'].to_list())\n",
    "label_std = (np.array(labels)-np.min(labels))/(np.max(labels)-np.min(labels))\n",
    "\n",
    "lig_smi_set = list(set(lig_smiles))\n",
    "add_smi_set = list(set(add_smiles))\n",
    "base_smi_set = list(set(base_smiles))\n",
    "ar_ha_smi_set = list(set(ar_ha_smiles))"
   ]
  },
  {
   "cell_type": "markdown",
   "metadata": {},
   "source": [
    "# Generate local steric and electronic information"
   ]
  },
  {
   "cell_type": "code",
   "execution_count": 3,
   "metadata": {
    "ExecuteTime": {
     "end_time": "2022-09-13T01:52:44.599739Z",
     "start_time": "2022-09-13T01:52:44.597063Z"
    }
   },
   "outputs": [],
   "source": [
    "with open(mol_dir+'smiles_file_dict.csv','r') as fr:\n",
    "    lines = fr.readlines()\n",
    "\n",
    "smiles_name_dict = {tmp_line.strip().split(',')[0]:tmp_line.strip().split(',')[1] for tmp_line in lines}"
   ]
  },
  {
   "cell_type": "code",
   "execution_count": 4,
   "metadata": {
    "ExecuteTime": {
     "end_time": "2022-09-13T01:52:53.590882Z",
     "start_time": "2022-09-13T01:52:45.452950Z"
    },
    "scrolled": true
   },
   "outputs": [],
   "source": [
    "sort_func = lambda x: eval(x.split('/')[-1].split('.')[0].split('_')[-1])\n",
    "lig_files = sorted(glob.glob('./data1/data1_sdf_files/lig_*.sdf'),key=sort_func)\n",
    "add_files = sorted(glob.glob('./data1/data1_sdf_files/add_*.sdf'),key=sort_func)\n",
    "base_files = sorted(glob.glob('./data1/data1_sdf_files/base_*.sdf'),key=sort_func)\n",
    "ar_ha_files = sorted(glob.glob('./data1/data1_sdf_files/ar_ha_*.sdf'),key=sort_func)\n",
    "\n",
    "lig_spms,lig_elec_desc,lig_id_name_dict = Calc_SPMS_Elec(lig_files,mol_dir,align='Origin',elec_acc = 7).calc_spms_elec(lig_files,mol_dir)\n",
    "add_spms,add_elec_desc,add_id_name_dict = Calc_SPMS_Elec(add_files,mol_dir,align='Origin',elec_acc = 7).calc_spms_elec(add_files,mol_dir)\n",
    "base_spms,base_elec_desc,base_id_name_dict = Calc_SPMS_Elec(base_files,mol_dir,align='Origin',elec_acc = 7).calc_spms_elec(base_files,mol_dir)\n",
    "ar_ha_spms,ar_ha_elec_desc,ar_ha_id_name_dict = Calc_SPMS_Elec(ar_ha_files,mol_dir,align='Origin',elec_acc = 7).calc_spms_elec(ar_ha_files,mol_dir)\n",
    "\n",
    "lig_spms = Scaler(lig_spms)\n",
    "add_spms = Scaler(add_spms)\n",
    "base_spms = Scaler(base_spms)\n",
    "\n",
    "ar_ha_spms = Scaler(ar_ha_spms)\n",
    "lig_elec_desc = Scaler(lig_elec_desc)\n",
    "add_elec_desc = Scaler(add_elec_desc)\n",
    "base_elec_desc = Scaler(base_elec_desc)\n",
    "ar_ha_elec_desc = Scaler(ar_ha_elec_desc)"
   ]
  },
  {
   "cell_type": "code",
   "execution_count": 5,
   "metadata": {
    "ExecuteTime": {
     "end_time": "2022-09-13T01:52:55.067970Z",
     "start_time": "2022-09-13T01:52:53.919189Z"
    }
   },
   "outputs": [],
   "source": [
    "total_lig_spms = np.array([lig_spms[lig_id_name_dict[smiles_name_dict[tmp_smi]]] for tmp_smi in lig_smiles])\n",
    "total_add_spms = np.array([add_spms[add_id_name_dict[smiles_name_dict[tmp_smi]]] for tmp_smi in add_smiles])\n",
    "total_base_spms = np.array([base_spms[base_id_name_dict[smiles_name_dict[tmp_smi]]] for tmp_smi in base_smiles])\n",
    "total_ar_ha_spms = np.array([ar_ha_spms[ar_ha_id_name_dict[smiles_name_dict[tmp_smi]]] for tmp_smi in ar_ha_smiles])\n",
    "\n",
    "total_lig_elec_desc = np.array([lig_elec_desc[lig_id_name_dict[smiles_name_dict[tmp_smi]]] for tmp_smi in lig_smiles])\n",
    "total_add_elec_desc = np.array([add_elec_desc[add_id_name_dict[smiles_name_dict[tmp_smi]]] for tmp_smi in add_smiles])\n",
    "total_base_elec_desc = np.array([base_elec_desc[base_id_name_dict[smiles_name_dict[tmp_smi]]] for tmp_smi in base_smiles])\n",
    "total_ar_ha_elec_desc = np.array([ar_ha_elec_desc[ar_ha_id_name_dict[smiles_name_dict[tmp_smi]]] for tmp_smi in ar_ha_smiles])\n",
    "\n",
    "lig_spms_trans = np.transpose(total_lig_spms,(0,2,3,1))\n",
    "add_spms_trans = np.transpose(total_add_spms,(0,2,3,1))\n",
    "base_spms_trans = np.transpose(total_base_spms,(0,2,3,1))\n",
    "ar_ha_spms_trans = np.transpose(total_ar_ha_spms,(0,2,3,1))\n",
    "\n",
    "lig_elec_trans = np.transpose(total_lig_elec_desc,(0,2,3,4,1))\n",
    "add_elec_trans = np.transpose(total_add_elec_desc,(0,2,3,4,1))\n",
    "base_elec_trans = np.transpose(total_base_elec_desc,(0,2,3,4,1))\n",
    "ar_ha_elec_trans = np.transpose(total_ar_ha_elec_desc,(0,2,3,4,1))\n",
    "\n",
    "react_spms = np.concatenate([lig_spms_trans,add_spms_trans,base_spms_trans,ar_ha_spms_trans],axis=3)\n",
    "react_elec = np.concatenate([lig_elec_trans,add_elec_trans,base_elec_trans,ar_ha_elec_trans],axis=4)\n",
    "label_std = (np.array(labels)-np.min(labels))/(np.max(labels)-np.min(labels))"
   ]
  },
  {
   "cell_type": "code",
   "execution_count": 6,
   "metadata": {
    "ExecuteTime": {
     "end_time": "2022-09-13T01:53:06.748236Z",
     "start_time": "2022-09-13T01:52:56.525107Z"
    }
   },
   "outputs": [],
   "source": [
    "np.save('./data1/run_data/data1_SEMG_MIGNN_react_spms.npy',react_spms)\n",
    "np.save('./data1/run_data/data1_SEMG_MIGNN_react_elec.npy',react_elec)\n",
    "np.save('./data1/run_data/data1_SEMG_MIGNN_labels.npy',labels)\n",
    "np.save('./data1/run_data/data1_SEMG_MIGNN_label_std.npy',label_std)"
   ]
  }
 ],
 "metadata": {
  "kernelspec": {
   "display_name": "Python 3 (ipykernel)",
   "language": "python",
   "name": "python3"
  },
  "language_info": {
   "codemirror_mode": {
    "name": "ipython",
    "version": 3
   },
   "file_extension": ".py",
   "mimetype": "text/x-python",
   "name": "python",
   "nbconvert_exporter": "python",
   "pygments_lexer": "ipython3",
   "version": "3.8.12"
  },
  "toc": {
   "base_numbering": 1,
   "nav_menu": {},
   "number_sections": true,
   "sideBar": true,
   "skip_h1_title": false,
   "title_cell": "Table of Contents",
   "title_sidebar": "Contents",
   "toc_cell": false,
   "toc_position": {
    "height": "calc(100% - 180px)",
    "left": "10px",
    "top": "150px",
    "width": "246.938px"
   },
   "toc_section_display": true,
   "toc_window_display": true
  },
  "varInspector": {
   "cols": {
    "lenName": 16,
    "lenType": 16,
    "lenVar": 40
   },
   "kernels_config": {
    "python": {
     "delete_cmd_postfix": "",
     "delete_cmd_prefix": "del ",
     "library": "var_list.py",
     "varRefreshCmd": "print(var_dic_list())"
    },
    "r": {
     "delete_cmd_postfix": ") ",
     "delete_cmd_prefix": "rm(",
     "library": "var_list.r",
     "varRefreshCmd": "cat(var_dic_list()) "
    }
   },
   "types_to_exclude": [
    "module",
    "function",
    "builtin_function_or_method",
    "instance",
    "_Feature"
   ],
   "window_display": false
  }
 },
 "nbformat": 4,
 "nbformat_minor": 4
}
