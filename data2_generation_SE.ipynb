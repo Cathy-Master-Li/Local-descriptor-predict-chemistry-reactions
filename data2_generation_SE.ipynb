{
 "cells": [
  {
   "cell_type": "markdown",
   "metadata": {},
   "source": [
    "This notebook is a tutorial for generation of SE descriptor in data2."
   ]
  },
  {
   "cell_type": "markdown",
   "metadata": {},
   "source": [
    "#  Load Dependencies"
   ]
  },
  {
   "cell_type": "code",
   "execution_count": 4,
   "metadata": {
    "ExecuteTime": {
     "end_time": "2022-08-10T08:05:42.276610Z",
     "start_time": "2022-08-10T08:05:40.517621Z"
    },
    "scrolled": true
   },
   "outputs": [
    {
     "name": "stderr",
     "output_type": "stream",
     "text": [
      "Using backend: pytorch[16:05:40] /opt/dgl/src/runtime/tensordispatch.cc:43: TensorDispatcher: dlopen failed: /root/anaconda3/lib/python3.8/site-packages/dgl/tensoradapter/pytorch/libtensoradapter_pytorch_1.11.0.so: cannot open shared object file: No such file or directory\n",
      "\n"
     ]
    }
   ],
   "source": [
    "import numpy as np\n",
    "import pandas as pd\n",
    "import glob\n",
    "from rdkit import Chem\n",
    "from script.utils import Calc_SPMS_Elec,Scaler \n",
    "import warnings\n",
    "warnings.filterwarnings(\"ignore\")"
   ]
  },
  {
   "cell_type": "markdown",
   "metadata": {},
   "source": [
    "# Load Data"
   ]
  },
  {
   "cell_type": "code",
   "execution_count": 5,
   "metadata": {
    "ExecuteTime": {
     "end_time": "2022-08-10T08:05:44.822883Z",
     "start_time": "2022-08-10T08:05:44.815147Z"
    },
    "scrolled": true
   },
   "outputs": [],
   "source": [
    "data_file = './data2/data2.csv'\n",
    "mol_dir = './data2/data2_sdf_files/'\n",
    "\n",
    "tmp_df = pd.read_csv(data_file)\n",
    "cat_smiles = np.array(tmp_df['Catalyst'].to_list())\n",
    "imine_smiles = np.array(tmp_df['Imine'].to_list())\n",
    "thiol_smiles = np.array(tmp_df['Thiol'].to_list())\n",
    "labels = np.array(tmp_df['Output'].to_list())\n",
    "label_std = (np.array(labels)-np.min(labels))/(np.max(labels)-np.min(labels))\n",
    "cat_smi_set = list(set(cat_smiles))\n",
    "imine_smi_set = list(set(imine_smiles))\n",
    "thiol_smi_set = list(set(thiol_smiles))"
   ]
  },
  {
   "cell_type": "code",
   "execution_count": 6,
   "metadata": {
    "ExecuteTime": {
     "end_time": "2022-08-10T08:07:27.124389Z",
     "start_time": "2022-08-10T08:07:27.121700Z"
    }
   },
   "outputs": [],
   "source": [
    "with open(mol_dir+'smiles_file_dict.csv','r') as fr:\n",
    "    lines = fr.readlines()\n",
    "\n",
    "smiles_name_dict = {tmp_line.strip().split(',')[0]:tmp_line.strip().split(',')[1] for tmp_line in lines}"
   ]
  },
  {
   "cell_type": "code",
   "execution_count": 7,
   "metadata": {
    "ExecuteTime": {
     "end_time": "2022-08-10T08:08:15.371622Z",
     "start_time": "2022-08-10T08:07:30.240076Z"
    },
    "scrolled": true
   },
   "outputs": [],
   "source": [
    "sort_func = lambda x: eval(x.split('/')[-1].split('.')[0].split('_')[-1])\n",
    "cat_files = sorted(glob.glob('./data2/data2_sdf_files/cat_*.sdf'),key=sort_func)\n",
    "imine_files = sorted(glob.glob('./data2/data2_sdf_files/imine_*.sdf'),key=sort_func)\n",
    "thiol_files = sorted(glob.glob('./data2/data2_sdf_files/thiol_*.sdf'),key=sort_func)\n",
    "\n",
    "cat_spms,cat_elec_desc,cat_id_name_dict = Calc_SPMS_Elec(cat_files,mol_dir,align='Origin',sphere_radius = 7).calc_spms_elec(cat_files,mol_dir)\n",
    "imine_spms,imine_elec_desc,imine_id_name_dict = Calc_SPMS_Elec(imine_files,mol_dir,align='Origin',sphere_radius = 7).calc_spms_elec(imine_files,mol_dir)\n",
    "thiol_spms,thiol_elec_desc,thiol_id_name_dict = Calc_SPMS_Elec(thiol_files,mol_dir,align='Origin',sphere_radius = 7).calc_spms_elec(thiol_files,mol_dir)\n",
    "\n",
    "cat_spms = Scaler(cat_spms)\n",
    "imine_spms = Scaler(imine_spms)\n",
    "thiol_spms = Scaler(thiol_spms)\n",
    "\n",
    "cat_elec_desc = Scaler(cat_elec_desc)\n",
    "imine_elec_desc = Scaler(imine_elec_desc)\n",
    "thiol_elec_desc = Scaler(thiol_elec_desc)"
   ]
  },
  {
   "cell_type": "markdown",
   "metadata": {},
   "source": [
    "# Generate local steric and electronic information"
   ]
  },
  {
   "cell_type": "code",
   "execution_count": 8,
   "metadata": {
    "ExecuteTime": {
     "end_time": "2022-08-10T08:11:22.130355Z",
     "start_time": "2022-08-10T08:11:21.848622Z"
    }
   },
   "outputs": [],
   "source": [
    "total_cat_spms = np.array([cat_spms[cat_id_name_dict[smiles_name_dict[tmp_smi]]] for tmp_smi in cat_smiles])\n",
    "total_imine_spms = np.array([imine_spms[imine_id_name_dict[smiles_name_dict[tmp_smi]]] for tmp_smi in imine_smiles])\n",
    "total_thiol_spms = np.array([thiol_spms[thiol_id_name_dict[smiles_name_dict[tmp_smi]]] for tmp_smi in thiol_smiles])\n",
    "\n",
    "total_cat_elec_desc = np.array([cat_elec_desc[cat_id_name_dict[smiles_name_dict[tmp_smi]]] for tmp_smi in cat_smiles])\n",
    "total_imine_elec_desc = np.array([imine_elec_desc[imine_id_name_dict[smiles_name_dict[tmp_smi]]] for tmp_smi in imine_smiles])\n",
    "total_thiol_elec_desc = np.array([thiol_elec_desc[thiol_id_name_dict[smiles_name_dict[tmp_smi]]] for tmp_smi in thiol_smiles])\n",
    "\n",
    "cat_spms_trans = np.transpose(total_cat_spms,(0,2,3,1))\n",
    "imine_spms_trans = np.transpose(total_imine_spms,(0,2,3,1))\n",
    "thiol_spms_trans = np.transpose(total_thiol_spms,(0,2,3,1))\n",
    "\n",
    "cat_elec_trans = np.transpose(total_cat_elec_desc,(0,2,3,4,1))\n",
    "imine_elec_trans = np.transpose(total_imine_elec_desc,(0,2,3,4,1))\n",
    "thiol_elec_trans = np.transpose(total_thiol_elec_desc,(0,2,3,4,1))\n",
    "\n",
    "react_spms = np.concatenate([cat_spms_trans,imine_spms_trans,thiol_spms_trans],axis=3)\n",
    "react_elec = np.concatenate([cat_elec_trans,imine_elec_trans,thiol_elec_trans],axis=4)\n",
    "label_std = (np.array(labels)-np.min(labels))/(np.max(labels)-np.min(labels))"
   ]
  },
  {
   "cell_type": "code",
   "execution_count": 9,
   "metadata": {
    "ExecuteTime": {
     "end_time": "2022-08-10T08:11:31.059588Z",
     "start_time": "2022-08-10T08:11:28.160830Z"
    }
   },
   "outputs": [],
   "source": [
    "np.save('./data2/run_data/data2_SEMG_MIGNN_react_spms.npy',react_spms)\n",
    "np.save('./data2/run_data/data2_SEMG_MIGNN_react_elec.npy',react_elec)\n",
    "np.save('./data2/run_data/data2_SEMG_MIGNN_labels.npy',labels)\n",
    "np.save('./data2/run_data/data2_SEMG_MIGNN_label_std.npy',label_std)"
   ]
  }
 ],
 "metadata": {
  "kernelspec": {
   "display_name": "Python 3 (ipykernel)",
   "language": "python",
   "name": "python3"
  },
  "language_info": {
   "codemirror_mode": {
    "name": "ipython",
    "version": 3
   },
   "file_extension": ".py",
   "mimetype": "text/x-python",
   "name": "python",
   "nbconvert_exporter": "python",
   "pygments_lexer": "ipython3",
   "version": "3.8.12"
  },
  "toc": {
   "base_numbering": 1,
   "nav_menu": {},
   "number_sections": true,
   "sideBar": false,
   "skip_h1_title": false,
   "title_cell": "Table of Contents",
   "title_sidebar": "Contents",
   "toc_cell": false,
   "toc_position": {
    "height": "595.139px",
    "left": "35.8924px",
    "top": "136.233px",
    "width": "165px"
   },
   "toc_section_display": true,
   "toc_window_display": true
  },
  "varInspector": {
   "cols": {
    "lenName": 16,
    "lenType": 16,
    "lenVar": 40
   },
   "kernels_config": {
    "python": {
     "delete_cmd_postfix": "",
     "delete_cmd_prefix": "del ",
     "library": "var_list.py",
     "varRefreshCmd": "print(var_dic_list())"
    },
    "r": {
     "delete_cmd_postfix": ") ",
     "delete_cmd_prefix": "rm(",
     "library": "var_list.r",
     "varRefreshCmd": "cat(var_dic_list()) "
    }
   },
   "types_to_exclude": [
    "module",
    "function",
    "builtin_function_or_method",
    "instance",
    "_Feature"
   ],
   "window_display": false
  }
 },
 "nbformat": 4,
 "nbformat_minor": 4
}
